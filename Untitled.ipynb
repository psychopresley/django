{
 "cells": [
  {
   "cell_type": "code",
   "execution_count": 143,
   "metadata": {},
   "outputs": [],
   "source": [
    "import numpy as np"
   ]
  },
  {
   "cell_type": "code",
   "execution_count": 148,
   "metadata": {},
   "outputs": [],
   "source": [
    "quantiles = {0:0,0.1:0.003267,0.5:0.016557,0.9:0.035669,1:0.219}"
   ]
  },
  {
   "cell_type": "code",
   "execution_count": 161,
   "metadata": {},
   "outputs": [],
   "source": [
    "def quantiles_pos(mortality, model_coef):\n",
    "    return ([mortality**4,mortality**3,mortality**2,mortality,1]*model_coef).item()\n",
    "\n",
    "def quantiles_model(quantiles):\n",
    "    regressors = []\n",
    "    y=[]\n",
    "    for k,v in quantiles.items():\n",
    "        regressors.append([v**4,v**3,v**2,v,1])\n",
    "        y.append([k])\n",
    "\n",
    "    regressors = np.matrix(regressors)\n",
    "    model_coef = np.linalg.inv(regressors)*np.array(y)\n",
    "    \n",
    "    return model_coef"
   ]
  },
  {
   "cell_type": "code",
   "execution_count": 162,
   "metadata": {},
   "outputs": [],
   "source": [
    "model_coef=quantiles_model(quantiles)"
   ]
  },
  {
   "cell_type": "code",
   "execution_count": 165,
   "metadata": {},
   "outputs": [],
   "source": [
    "fx = quantiles_pos(0.0073,coef)"
   ]
  },
  {
   "cell_type": "code",
   "execution_count": 166,
   "metadata": {},
   "outputs": [
    {
     "data": {
      "text/plain": [
       "0.22095609366778682"
      ]
     },
     "execution_count": 166,
     "metadata": {},
     "output_type": "execute_result"
    }
   ],
   "source": [
    "fx"
   ]
  },
  {
   "cell_type": "code",
   "execution_count": null,
   "metadata": {},
   "outputs": [],
   "source": []
  }
 ],
 "metadata": {
  "kernelspec": {
   "display_name": "Python 3",
   "language": "python",
   "name": "python3"
  },
  "language_info": {
   "codemirror_mode": {
    "name": "ipython",
    "version": 3
   },
   "file_extension": ".py",
   "mimetype": "text/x-python",
   "name": "python",
   "nbconvert_exporter": "python",
   "pygments_lexer": "ipython3",
   "version": "3.7.6"
  }
 },
 "nbformat": 4,
 "nbformat_minor": 4
}
