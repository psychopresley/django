{
 "cells": [
  {
   "cell_type": "code",
   "execution_count": 116,
   "metadata": {},
   "outputs": [],
   "source": [
    "import numpy as np"
   ]
  },
  {
   "cell_type": "code",
   "execution_count": 115,
   "metadata": {},
   "outputs": [],
   "source": [
    "quantiles = {0:0,10:0.3267,50:1.6557,90:3.5669,100:21.9}"
   ]
  },
  {
   "cell_type": "code",
   "execution_count": 135,
   "metadata": {},
   "outputs": [],
   "source": [
    "def quantiles_pos(mortality, model_coef):\n",
    "    return (mortality*model_coef).sum()\n",
    "\n",
    "def quantiles_model(quantiles):\n",
    "    regressors = []\n",
    "    y=[]\n",
    "    for k,v in quantiles.items():\n",
    "        regressors.append([v**4,v**3,v**2,v,1])\n",
    "        y.append([k])\n",
    "\n",
    "    regressors = np.matrix(regressors)\n",
    "    model_coef = np.linalg.inv(regressors)*np.array(y)\n",
    "    \n",
    "    return model_coef"
   ]
  },
  {
   "cell_type": "code",
   "execution_count": 136,
   "metadata": {},
   "outputs": [],
   "source": [
    "fx = quantiles_pos(2.12,coef)"
   ]
  },
  {
   "cell_type": "code",
   "execution_count": 137,
   "metadata": {},
   "outputs": [
    {
     "data": {
      "text/plain": [
       "65.19878891732068"
      ]
     },
     "execution_count": 137,
     "metadata": {},
     "output_type": "execute_result"
    }
   ],
   "source": [
    "fx"
   ]
  },
  {
   "cell_type": "code",
   "execution_count": null,
   "metadata": {},
   "outputs": [],
   "source": [
    "@quantiles_pos(2.12)\n",
    "quantiles\n"
   ]
  }
 ],
 "metadata": {
  "kernelspec": {
   "display_name": "Python 3",
   "language": "python",
   "name": "python3"
  },
  "language_info": {
   "codemirror_mode": {
    "name": "ipython",
    "version": 3
   },
   "file_extension": ".py",
   "mimetype": "text/x-python",
   "name": "python",
   "nbconvert_exporter": "python",
   "pygments_lexer": "ipython3",
   "version": "3.7.6"
  }
 },
 "nbformat": 4,
 "nbformat_minor": 4
}
